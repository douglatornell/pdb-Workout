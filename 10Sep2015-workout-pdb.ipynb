{
 "cells": [
  {
   "cell_type": "markdown",
   "metadata": {},
   "source": [
    "# Debugging and the Python Debugger\n",
    "\n",
    "## UBC EOAS SWC Workout\n",
    "### 10-Sep-2015\n",
    "### Doug Latornell <dlatornell@eos.ubc.ca>"
   ]
  },
  {
   "cell_type": "markdown",
   "metadata": {},
   "source": [
    "## How to Debug\n",
    "\n",
    "The Software Carpentry [Python Debugging lesson](http://swcarpentry.github.io/python-novice-inflammation/09-debugging.html)\n",
    "\n",
    "* Know what it's supposed to do\n",
    "  1. Write unit tests if you can\n",
    "  2. Test with simplified data\n",
    "  3. Test a simplified case\n",
    "  4. Compare to an oracle\n",
    "  5. Check conservation laws\n",
    "  6. Visualize\n",
    "* Make it fail every time\n",
    "* Make it fail fast\n",
    "* Change one thing at a time, for a reason\n",
    "* Keep track of what you've done\n",
    "* Be humble"
   ]
  },
  {
   "cell_type": "markdown",
   "metadata": {},
   "source": [
    "## Debugging Tools\n",
    "\n",
    "The Python Standard Library debugger [pdb](https://docs.python.org/3/library/pdb.html#module-pdb),\n",
    "and it's IPython implementation [ipdb](https://pypi.python.org/pypi/ipdb)\n",
    "```bash\n",
    "$ pip install -U ipdb\n",
    "```\n",
    "\n",
    "* In Jupyter/IPython notebooks\n",
    "* From the command-line"
   ]
  },
  {
   "cell_type": "markdown",
   "metadata": {},
   "source": [
    "## 1-d Diffusion Equation\n",
    "\n",
    "$$\\frac{\\partial T}{\\partial t} = \\kappa \\frac{\\partial^2 T}{\\partial x^2}$$\n",
    "\n",
    "with $T_0 = 0$ everywhere except the midpoint,\n",
    "and $T = 0$ at the ends."
   ]
  },
  {
   "cell_type": "code",
   "execution_count": 1,
   "metadata": {
    "collapsed": false
   },
   "outputs": [
    {
     "data": {
      "text/html": [
       "\n",
       "        <iframe\n",
       "            width=\"800\"\n",
       "            height=\"300\"\n",
       "            src=\"https://www.youtube.com/embed/b4D2ktTtw7E?rel=0\"\n",
       "            frameborder=\"0\"\n",
       "            allowfullscreen\n",
       "        ></iframe>\n",
       "        "
      ],
      "text/plain": [
       "<IPython.lib.display.YouTubeVideo at 0x7fd98128f8d0>"
      ]
     },
     "execution_count": 1,
     "metadata": {},
     "output_type": "execute_result"
    }
   ],
   "source": [
    "from IPython.display import YouTubeVideo\n",
    "YouTubeVideo('b4D2ktTtw7E', rel=0, width=800)"
   ]
  },
  {
   "cell_type": "markdown",
   "metadata": {},
   "source": [
    "## Post-mortem Debugging"
   ]
  },
  {
   "cell_type": "code",
   "execution_count": 2,
   "metadata": {
    "collapsed": true
   },
   "outputs": [],
   "source": [
    "%matplotlib inline"
   ]
  },
  {
   "cell_type": "code",
   "execution_count": null,
   "metadata": {
    "collapsed": false
   },
   "outputs": [],
   "source": [
    "# %load heat_conduction.py\n",
    "\"\"\"Heat conduction in a rod (i.e. 1-d diffusion over time)\n",
    "\n",
    "Example code for 10Sep2015 EOAS SWC Workout on Debugging and pdb\n",
    "\"\"\"\n",
    "import matplotlib.pyplot as plt\n",
    "import numpy as np\n",
    "\n",
    "\n",
    "def main():\n",
    "    # Diffusion coefficient\n",
    "    kappa = 0.01\n",
    "\n",
    "    # 1-d spatial grid\n",
    "    x_max = 100\n",
    "    x_max_p1 = x_max + 1\n",
    "    mid = x_max_p1 / 2\n",
    "\n",
    "    # Time domain\n",
    "    max_time = 10\n",
    "    timesteps = 50\n",
    "    dt = max_time / timesteps\n",
    "\n",
    "    # Initialize temperature\n",
    "    temp = np.zeros(x_max_p1)\n",
    "    dtemp = np.zeros_like(temp)\n",
    "    temp[mid] = 1.\n",
    "\n",
    "    for time in np.linspace(0, max_time, timesteps):\n",
    "        # Boundary conditions\n",
    "        temp[1] = 0\n",
    "        temp[x_max_p1] = 0\n",
    "        for i in range(x_max_p1):\n",
    "            dtemp[i] = kappa * (temp[i-1] - 2*temp[i] + temp[i+1])/dt ** 2\n",
    "        temp = temp + dtemp\n",
    "    plot_temp_distribution(temp, time)\n",
    "\n",
    "\n",
    "def plot_temp_distribution(temp, time):\n",
    "    fig, ax = plt.subplots(1, 1, figsize=(16, 2))\n",
    "    ax.plot(temp)\n",
    "    ax.set_xlabel('x')\n",
    "    ax.set_ylabel('temp')\n",
    "    ax.set_title('temp distribution at time = {}'.format(time))\n",
    "    return fig\n",
    "\n",
    "\n",
    "if __name__ == '__main__':\n",
    "    main()\n"
   ]
  },
  {
   "cell_type": "markdown",
   "metadata": {},
   "source": [
    "Use the `%debug` magic in notebooks.\n",
    "\n",
    "`help` shows all of the available commands,\n",
    "and `help <command>` shows information for `<command>`,\n",
    "or see the [Debugger Commands](https://docs.python.org/3/library/pdb.html#debugger-commands) section of the Python docs.\n",
    "\n",
    "Use `q` or `quit` to exit the debugger before you move to another cell\n",
    "because while you are in the debugger the kernel is blocked waiting for your next command."
   ]
  },
  {
   "cell_type": "code",
   "execution_count": null,
   "metadata": {
    "collapsed": false
   },
   "outputs": [],
   "source": [
    "%debug"
   ]
  },
  {
   "cell_type": "markdown",
   "metadata": {},
   "source": [
    "The `%pdb` magic toggles an automatic `%debug` whenever an exception is raised."
   ]
  },
  {
   "cell_type": "markdown",
   "metadata": {},
   "source": [
    "Keep debugging until the code runs without raising an exception.\n",
    "\n",
    "Is the result correct?"
   ]
  },
  {
   "cell_type": "markdown",
   "metadata": {},
   "source": [
    "## Interactive Debugging\n",
    "\n",
    "Insert the line\n",
    "```python\n",
    "import ipdb; ipdb.set_trace()\n",
    "```    \n",
    "before the line where you want to start stepping through the code"
   ]
  },
  {
   "cell_type": "code",
   "execution_count": null,
   "metadata": {
    "collapsed": false
   },
   "outputs": [],
   "source": []
  },
  {
   "cell_type": "markdown",
   "metadata": {},
   "source": [
    "## Debugging Modules from the Command-line\n",
    "\n",
    "The command:\n",
    "```bash\n",
    "$ ipdb mymodule.py\n",
    "```\n",
    "\n",
    "for Python 2, or\n",
    "```bash \n",
    "$ ipdb3 mymodule.py\n",
    "```\n",
    "\n",
    "for Python 3\n",
    "\n",
    "prepares to run `mymodule.py` but drops into the debugger before the 1st executable line.\n",
    "\n",
    "```bash\n",
    "$ python -m ipdb mymodule.py\n",
    "```\n",
    "\n",
    "can also be used in Python 2.7 or later.\n",
    "\n",
    "To begin execution and stop if an exception is raised use the `r` or `run` command.\n",
    "\n",
    "Alternatively, you can\n",
    "* step through the code with the `s` or `step` and `n` or `next` commands\n",
    "* display values as your go or automatically with the `display` command\n",
    "* set 1 or more breakpoints (perhaps with conditions) where you want to drop into the debugger again, then start execution with `r` or `run`\n",
    "* etc...\n",
    "\n",
    "See the [Debugger Commands](https://docs.python.org/3/library/pdb.html#debugger-commands) section of the Python docs."
   ]
  },
  {
   "cell_type": "code",
   "execution_count": null,
   "metadata": {
    "collapsed": true
   },
   "outputs": [],
   "source": []
  },
  {
   "cell_type": "markdown",
   "metadata": {},
   "source": [
    "## Using `ipdb` to Investigate Unit Test Failures\n",
    "\n",
    "Insert\n",
    "```python\n",
    "import ipdb; ipdb.set_trace()\n",
    "```\n",
    "as the line before the call to the function under test,\n",
    "for example:\n",
    "```python\n",
    "def test_gaps():\n",
    "    '''\n",
    "    check gap behaviour\n",
    "    '''\n",
    "    import ipdb; ipdb.set_trace()\n",
    "    score = matching.matchScore('---','---')\n",
    "    assert score == 0, '--- and --- should have scored 0, but got %i' % score\n",
    "```\n",
    "When you run the test suite execution will stop at that line \n",
    "so that you can step into the function under test with `s`  or `step`\n",
    "and then explore it to figure out why the test is failing.\n",
    "\n",
    "Don't forget to delete `import ipdb; ipdb.set_trace()` before you commit your changes;\n",
    "running your test suite jsut before you commit is a good way to ensure that you have."
   ]
  },
  {
   "cell_type": "code",
   "execution_count": null,
   "metadata": {
    "collapsed": true
   },
   "outputs": [],
   "source": []
  }
 ],
 "metadata": {
  "kernelspec": {
   "display_name": "Python 3",
   "language": "python",
   "name": "python3"
  },
  "language_info": {
   "codemirror_mode": {
    "name": "ipython",
    "version": 3
   },
   "file_extension": ".py",
   "mimetype": "text/x-python",
   "name": "python",
   "nbconvert_exporter": "python",
   "pygments_lexer": "ipython3",
   "version": "3.4.3"
  }
 },
 "nbformat": 4,
 "nbformat_minor": 0
}
